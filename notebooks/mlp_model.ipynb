{
 "cells": [
  {
   "attachments": {},
   "cell_type": "markdown",
   "metadata": {},
   "source": [
    "# Diabetes Dataset: MLP model\n",
    "\n",
    "Oscar Miranda Escalante A01630791"
   ]
  },
  {
   "cell_type": "code",
   "execution_count": 71,
   "metadata": {},
   "outputs": [],
   "source": [
    "# Set the current working directory (root of the repository)\n",
    "CWD = '/Users/oscar/Local/regression/'\n",
    "\n",
    "import sys\n",
    "sys.path.append(CWD)"
   ]
  },
  {
   "cell_type": "code",
   "execution_count": 72,
   "metadata": {},
   "outputs": [
    {
     "name": "stdout",
     "output_type": "stream",
     "text": [
      "ls: CWD: No such file or directory\n"
     ]
    }
   ],
   "source": [
    "%ls CWD"
   ]
  },
  {
   "cell_type": "code",
   "execution_count": 73,
   "metadata": {},
   "outputs": [
    {
     "data": {
      "text/plain": [
       "<torch._C.Generator at 0x114837470>"
      ]
     },
     "execution_count": 73,
     "metadata": {},
     "output_type": "execute_result"
    }
   ],
   "source": [
    "import torch\n",
    "import matplotlib.pyplot as plt\n",
    "import numpy as np\n",
    "\n",
    "from modules.dataset import DiabetesDataset\n",
    "from modules.models import MLP\n",
    "\n",
    "torch.manual_seed(0)"
   ]
  },
  {
   "cell_type": "code",
   "execution_count": 74,
   "metadata": {},
   "outputs": [
    {
     "name": "stdout",
     "output_type": "stream",
     "text": [
      "Using cpu device\n"
     ]
    }
   ],
   "source": [
    "\n",
    "device = (\n",
    "    \"cuda\"\n",
    "    if torch.cuda.is_available()\n",
    "    else \"mps\"\n",
    "    if torch.backends.mps.is_available()\n",
    "    else \"cpu\"\n",
    ")\n",
    "\n",
    "# force cpu (mps not compatible)\n",
    "device = \"cpu\"\n",
    "\n",
    "print(f\"Using {device} device\")"
   ]
  },
  {
   "attachments": {},
   "cell_type": "markdown",
   "metadata": {},
   "source": [
    "## Load the data"
   ]
  },
  {
   "cell_type": "code",
   "execution_count": 75,
   "metadata": {},
   "outputs": [],
   "source": [
    "path = f'{CWD}/data/diabetes.txt'\n",
    "diabetes_dataset = DiabetesDataset(path=path, normalize=True)\n",
    "\n",
    "# Train/test split\n",
    "train_size = int(0.8 * len(diabetes_dataset))\n",
    "test_size = len(diabetes_dataset) - train_size\n",
    "train_dataset, test_dataset = torch.utils.data.random_split(diabetes_dataset, [train_size, test_size])"
   ]
  },
  {
   "attachments": {},
   "cell_type": "markdown",
   "metadata": {},
   "source": [
    "## Model definition"
   ]
  },
  {
   "cell_type": "code",
   "execution_count": 76,
   "metadata": {},
   "outputs": [],
   "source": [
    "# Feature dimensions\n",
    "in_size = len(diabetes_dataset[0][0])\n",
    "h_size = 64\n",
    "out_size = 1\n",
    "\n",
    "# Instantiate model\n",
    "model = MLP(in_size, h_size, out_size).to(device)"
   ]
  },
  {
   "attachments": {},
   "cell_type": "markdown",
   "metadata": {},
   "source": [
    "## Training"
   ]
  },
  {
   "cell_type": "code",
   "execution_count": 77,
   "metadata": {},
   "outputs": [],
   "source": [
    "def train(data, n_epochs, criterion, optimizer, loss_history):\n",
    "    X_train, y_train = data[:]\n",
    "\n",
    "    for epoch in range(n_epochs):\n",
    "        optimizer.zero_grad()\n",
    "        \n",
    "        # Forward\n",
    "        y_hat = model(X_train)\n",
    "\n",
    "        # Loss\n",
    "        loss = criterion(y_hat, y_train)\n",
    "        loss_history.append(loss.item())\n",
    "\n",
    "        # Gradients\n",
    "        loss.backward()\n",
    "\n",
    "        # Update params\n",
    "        optimizer.step()\n",
    "\n",
    "        print(f'epoch {epoch+1}, loss {loss.item()}')"
   ]
  },
  {
   "attachments": {},
   "cell_type": "markdown",
   "metadata": {},
   "source": [
    "Using SGD optimizer"
   ]
  },
  {
   "cell_type": "code",
   "execution_count": 78,
   "metadata": {},
   "outputs": [
    {
     "name": "stdout",
     "output_type": "stream",
     "text": [
      "epoch 1, loss 28956.419921875\n",
      "epoch 2, loss 28607.439453125\n",
      "epoch 3, loss 28224.806640625\n",
      "epoch 4, loss 27740.359375\n",
      "epoch 5, loss 27116.04296875\n",
      "epoch 6, loss 26325.447265625\n",
      "epoch 7, loss 25351.640625\n",
      "epoch 8, loss 24189.58984375\n",
      "epoch 9, loss 22843.755859375\n",
      "epoch 10, loss 21329.455078125\n",
      "epoch 11, loss 19670.158203125\n",
      "epoch 12, loss 17899.7890625\n",
      "epoch 13, loss 16065.642578125\n",
      "epoch 14, loss 14226.5625\n",
      "epoch 15, loss 12452.4423828125\n",
      "epoch 16, loss 10821.61328125\n",
      "epoch 17, loss 9416.8125\n",
      "epoch 18, loss 8308.7490234375\n",
      "epoch 19, loss 7537.0908203125\n",
      "epoch 20, loss 7099.27685546875\n",
      "epoch 21, loss 6944.05810546875\n",
      "epoch 22, loss 6983.26904296875\n",
      "epoch 23, loss 7105.5078125\n",
      "epoch 24, loss 7200.39306640625\n",
      "epoch 25, loss 7182.240234375\n",
      "epoch 26, loss 7011.28125\n",
      "epoch 27, loss 6695.6982421875\n",
      "epoch 28, loss 6274.3125\n",
      "epoch 29, loss 5801.44384765625\n",
      "epoch 30, loss 5331.3359375\n",
      "epoch 31, loss 4907.271484375\n",
      "epoch 32, loss 4558.50439453125\n",
      "epoch 33, loss 4298.1591796875\n",
      "epoch 34, loss 4124.01025390625\n",
      "epoch 35, loss 4019.0693359375\n",
      "epoch 36, loss 3963.37109375\n",
      "epoch 37, loss 3936.948974609375\n",
      "epoch 38, loss 3922.195068359375\n",
      "epoch 39, loss 3903.703857421875\n",
      "epoch 40, loss 3871.725830078125\n",
      "epoch 41, loss 3821.623291015625\n",
      "epoch 42, loss 3754.306396484375\n",
      "epoch 43, loss 3674.761962890625\n",
      "epoch 44, loss 3590.198974609375\n",
      "epoch 45, loss 3508.6015625\n",
      "epoch 46, loss 3436.268310546875\n",
      "epoch 47, loss 3379.43408203125\n",
      "epoch 48, loss 3337.973876953125\n",
      "epoch 49, loss 3309.048828125\n",
      "epoch 50, loss 3287.218017578125\n",
      "epoch 51, loss 3265.31298828125\n",
      "epoch 52, loss 3238.56982421875\n",
      "epoch 53, loss 3204.60400390625\n",
      "epoch 54, loss 3164.941650390625\n",
      "epoch 55, loss 3123.15185546875\n",
      "epoch 56, loss 3083.727294921875\n",
      "epoch 57, loss 3050.3310546875\n",
      "epoch 58, loss 3024.938720703125\n",
      "epoch 59, loss 3006.434814453125\n",
      "epoch 60, loss 2992.91357421875\n",
      "epoch 61, loss 2981.5712890625\n",
      "epoch 62, loss 2969.982666015625\n",
      "epoch 63, loss 2956.72314453125\n",
      "epoch 64, loss 2941.06591796875\n",
      "epoch 65, loss 2923.171630859375\n",
      "epoch 66, loss 2904.10986328125\n",
      "epoch 67, loss 2885.49462890625\n",
      "epoch 68, loss 2868.187255859375\n",
      "epoch 69, loss 2852.449462890625\n",
      "epoch 70, loss 2838.317626953125\n",
      "epoch 71, loss 2825.707763671875\n",
      "epoch 72, loss 2814.12548828125\n",
      "epoch 73, loss 2803.409912109375\n",
      "epoch 74, loss 2793.771484375\n",
      "epoch 75, loss 2785.013671875\n",
      "epoch 76, loss 2777.22265625\n",
      "epoch 77, loss 2770.46337890625\n",
      "epoch 78, loss 2764.13720703125\n",
      "epoch 79, loss 2757.508544921875\n",
      "epoch 80, loss 2750.4130859375\n",
      "epoch 81, loss 2742.81982421875\n",
      "epoch 82, loss 2734.977783203125\n",
      "epoch 83, loss 2727.35009765625\n",
      "epoch 84, loss 2720.369873046875\n",
      "epoch 85, loss 2714.18408203125\n",
      "epoch 86, loss 2708.700439453125\n",
      "epoch 87, loss 2703.5654296875\n",
      "epoch 88, loss 2698.403564453125\n",
      "epoch 89, loss 2692.979248046875\n",
      "epoch 90, loss 2687.41357421875\n",
      "epoch 91, loss 2681.784423828125\n",
      "epoch 92, loss 2676.36181640625\n",
      "epoch 93, loss 2671.417236328125\n",
      "epoch 94, loss 2666.890869140625\n",
      "epoch 95, loss 2662.68212890625\n",
      "epoch 96, loss 2658.527587890625\n",
      "epoch 97, loss 2654.302490234375\n",
      "epoch 98, loss 2649.962890625\n",
      "epoch 99, loss 2645.55810546875\n",
      "epoch 100, loss 2641.310302734375\n"
     ]
    }
   ],
   "source": [
    "criterion = torch.nn.MSELoss()\n",
    "optimizer = torch.optim.Adam(model.parameters(), lr=0.05)\n",
    "mse_history = []\n",
    "\n",
    "train(train_dataset, 100, criterion, optimizer, mse_history)\n"
   ]
  },
  {
   "cell_type": "code",
   "execution_count": 79,
   "metadata": {},
   "outputs": [
    {
     "data": {
      "text/plain": [
       "[<matplotlib.lines.Line2D at 0x15a2659c0>]"
      ]
     },
     "execution_count": 79,
     "metadata": {},
     "output_type": "execute_result"
    },
    {
     "data": {
      "image/png": "[encoded data removed]",
      "text/plain": [
       "<Figure size 640x480 with 1 Axes>"
      ]
     },
     "metadata": {},
     "output_type": "display_data"
    }
   ],
   "source": [
    "plt.title(\"MSE Loss on train_set\")\n",
    "plt.xlabel(\"Epoch number\")\n",
    "plt.plot(mse_history)"
   ]
  },
  {
   "attachments": {},
   "cell_type": "markdown",
   "metadata": {},
   "source": [
    "## Testing"
   ]
  },
  {
   "cell_type": "code",
   "execution_count": 80,
   "metadata": {},
   "outputs": [
    {
     "name": "stdout",
     "output_type": "stream",
     "text": [
      "Mean Squared Error (MSE) using test_set: 2407.3801\n",
      "Root Mean Squared Error (RMSE) using test_set: 49.0651\n"
     ]
    },
    {
     "data": {
      "image/png": "[encoded data removed]",
      "text/plain": [
       "<Figure size 640x480 with 1 Axes>"
      ]
     },
     "metadata": {},
     "output_type": "display_data"
    }
   ],
   "source": [
    "with torch.no_grad():\n",
    "    X_test, y_test = test_dataset[:]\n",
    "    y_hat = model(X_test)\n",
    "    mse = criterion(y_hat, y_test)\n",
    "    rmse = np.sqrt(mse)\n",
    "\n",
    "    print(f\"Mean Squared Error (MSE) using test_set: {mse.item():.4f}\")\n",
    "    print(f\"Root Mean Squared Error (RMSE) using test_set: {rmse:.4f}\")\n",
    "\n",
    "    plt.scatter(y_test, y_hat, color='blue', label='Actual vs. Predicted')\n",
    "    plt.xlabel('Actual Values')\n",
    "    plt.ylabel('Predicted Values')\n",
    "    plt.title('Linear Regression: Actual vs. Predicted')\n",
    "    plt.show()\n",
    "    "
   ]
  },
  {
   "cell_type": "code",
   "execution_count": null,
   "metadata": {},
   "outputs": [],
   "source": []
  }
 ],
 "metadata": {
  "kernelspec": {
   "display_name": "python3-env",
   "language": "python",
   "name": "python3"
  },
  "language_info": {
   "codemirror_mode": {
    "name": "ipython",
    "version": 3
   },
   "file_extension": ".py",
   "mimetype": "text/x-python",
   "name": "python",
   "nbconvert_exporter": "python",
   "pygments_lexer": "ipython3",
   "version": "3.10.4"
  },
  "orig_nbformat": 4
 },
 "nbformat": 4,
 "nbformat_minor": 2
}
