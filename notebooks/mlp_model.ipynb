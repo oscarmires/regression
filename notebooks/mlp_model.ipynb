{
 "cells": [
  {
   "attachments": {},
   "cell_type": "markdown",
   "metadata": {},
   "source": [
    "# Diabetes Dataset: MLP model\n",
    "\n",
    "Oscar Miranda Escalante A01630791"
   ]
  },
  {
   "cell_type": "code",
   "execution_count": 12,
   "metadata": {},
   "outputs": [],
   "source": [
    "# Set the current working directory (root of the repository)\n",
    "CWD = '~/Local/regression/'\n",
    "\n",
    "import sys\n",
    "sys.path.append(CWD)"
   ]
  },
  {
   "cell_type": "code",
   "execution_count": 13,
   "metadata": {},
   "outputs": [
    {
     "data": {
      "text/plain": [
       "<torch._C.Generator at 0x11335f450>"
      ]
     },
     "execution_count": 13,
     "metadata": {},
     "output_type": "execute_result"
    }
   ],
   "source": [
    "import torch\n",
    "import matplotlib.pyplot as plt\n",
    "import numpy as np\n",
    "\n",
    "from modules.dataset import DiabetesDataset\n",
    "from modules.models import MLP\n",
    "\n",
    "torch.manual_seed(0)"
   ]
  },
  {
   "cell_type": "code",
   "execution_count": 14,
   "metadata": {},
   "outputs": [
    {
     "name": "stdout",
     "output_type": "stream",
     "text": [
      "Using cpu device\n"
     ]
    }
   ],
   "source": [
    "\n",
    "device = (\n",
    "    \"cuda\"\n",
    "    if torch.cuda.is_available()\n",
    "    else \"mps\"\n",
    "    if torch.backends.mps.is_available()\n",
    "    else \"cpu\"\n",
    ")\n",
    "\n",
    "# force cpu (mps not compatible)\n",
    "device = \"cpu\"\n",
    "\n",
    "print(f\"Using {device} device\")"
   ]
  },
  {
   "attachments": {},
   "cell_type": "markdown",
   "metadata": {},
   "source": [
    "## Load the data"
   ]
  },
  {
   "cell_type": "code",
   "execution_count": 15,
   "metadata": {},
   "outputs": [],
   "source": [
    "path = f'{CWD}/data/diabetes.txt'\n",
    "diabetes_dataset = DiabetesDataset(path=path, normalize=True)\n",
    "\n",
    "# Train/test split\n",
    "train_size = int(0.8 * len(diabetes_dataset))\n",
    "test_size = len(diabetes_dataset) - train_size\n",
    "train_dataset, test_dataset = torch.utils.data.random_split(diabetes_dataset, [train_size, test_size])"
   ]
  },
  {
   "attachments": {},
   "cell_type": "markdown",
   "metadata": {},
   "source": [
    "## Model definition"
   ]
  },
  {
   "cell_type": "code",
   "execution_count": 7,
   "metadata": {},
   "outputs": [],
   "source": [
    "# Feature dimensions\n",
    "in_size = len(diabetes_dataset[0][0])\n",
    "h_size = 64\n",
    "out_size = 1\n",
    "\n",
    "# Instantiate model\n",
    "model = MLP(in_size, h_size, out_size).to(device)"
   ]
  },
  {
   "attachments": {},
   "cell_type": "markdown",
   "metadata": {},
   "source": [
    "## Training"
   ]
  },
  {
   "cell_type": "code",
   "execution_count": 8,
   "metadata": {},
   "outputs": [],
   "source": [
    "def train(data, n_epochs, criterion, optimizer, loss_history):\n",
    "    X_train, y_train = data[:]\n",
    "\n",
    "    for epoch in range(n_epochs):\n",
    "        optimizer.zero_grad()\n",
    "        \n",
    "        # Forward\n",
    "        y_hat = model(X_train)\n",
    "\n",
    "        # Loss\n",
    "        loss = criterion(y_hat, y_train)\n",
    "        loss_history.append(loss.item())\n",
    "\n",
    "        # Gradients\n",
    "        loss.backward()\n",
    "\n",
    "        # Update params\n",
    "        optimizer.step()\n",
    "\n",
    "        print(f'epoch {epoch+1}, loss {loss.item()}')"
   ]
  },
  {
   "attachments": {},
   "cell_type": "markdown",
   "metadata": {},
   "source": [
    "Using SGD optimizer"
   ]
  },
  {
   "cell_type": "code",
   "execution_count": 9,
   "metadata": {},
   "outputs": [
    {
     "name": "stdout",
     "output_type": "stream",
     "text": [
      "epoch 1, loss 28889.705078125\n",
      "epoch 2, loss 28713.18359375\n",
      "epoch 3, loss 28518.623046875\n",
      "epoch 4, loss 28267.24609375\n",
      "epoch 5, loss 27932.24609375\n",
      "epoch 6, loss 27496.03125\n",
      "epoch 7, loss 26946.21484375\n",
      "epoch 8, loss 26274.609375\n",
      "epoch 9, loss 25479.373046875\n",
      "epoch 10, loss 24568.255859375\n",
      "epoch 11, loss 23562.48828125\n",
      "epoch 12, loss 22496.466796875\n",
      "epoch 13, loss 21407.5234375\n",
      "epoch 14, loss 20330.994140625\n",
      "epoch 15, loss 19286.0859375\n",
      "epoch 16, loss 18268.728515625\n",
      "epoch 17, loss 17247.849609375\n",
      "epoch 18, loss 16166.1455078125\n",
      "epoch 19, loss 14975.12890625\n",
      "epoch 20, loss 13661.0322265625\n",
      "epoch 21, loss 12247.1923828125\n",
      "epoch 22, loss 10779.15625\n",
      "epoch 23, loss 9326.75390625\n",
      "epoch 24, loss 7994.81298828125\n",
      "epoch 25, loss 6901.671875\n",
      "epoch 26, loss 6125.64501953125\n",
      "epoch 27, loss 5633.77783203125\n",
      "epoch 28, loss 5286.083984375\n",
      "epoch 29, loss 4947.875\n",
      "epoch 30, loss 4579.72900390625\n",
      "epoch 31, loss 4235.9140625\n",
      "epoch 32, loss 4003.784423828125\n",
      "epoch 33, loss 3922.86328125\n",
      "epoch 34, loss 3934.703857421875\n",
      "epoch 35, loss 3926.470947265625\n",
      "epoch 36, loss 3830.718017578125\n",
      "epoch 37, loss 3668.658203125\n",
      "epoch 38, loss 3513.892822265625\n",
      "epoch 39, loss 3427.3017578125\n",
      "epoch 40, loss 3417.566162109375\n",
      "epoch 41, loss 3450.322265625\n",
      "epoch 42, loss 3483.076416015625\n",
      "epoch 43, loss 3489.812255859375\n",
      "epoch 44, loss 3465.357177734375\n",
      "epoch 45, loss 3418.7109375\n",
      "epoch 46, loss 3364.250732421875\n",
      "epoch 47, loss 3314.443359375\n",
      "epoch 48, loss 3275.177490234375\n",
      "epoch 49, loss 3244.53564453125\n",
      "epoch 50, loss 3215.536376953125\n",
      "epoch 51, loss 3181.60302734375\n",
      "epoch 52, loss 3141.441162109375\n",
      "epoch 53, loss 3100.057373046875\n",
      "epoch 54, loss 3065.400390625\n",
      "epoch 55, loss 3043.153564453125\n",
      "epoch 56, loss 3033.158203125\n",
      "epoch 57, loss 3029.658935546875\n",
      "epoch 58, loss 3024.99462890625\n",
      "epoch 59, loss 3014.203857421875\n",
      "epoch 60, loss 2997.596923828125\n",
      "epoch 61, loss 2979.924560546875\n",
      "epoch 62, loss 2967.035400390625\n",
      "epoch 63, loss 2962.32568359375\n",
      "epoch 64, loss 2965.11767578125\n",
      "epoch 65, loss 2971.6337890625\n",
      "epoch 66, loss 2977.538330078125\n",
      "epoch 67, loss 2980.189697265625\n",
      "epoch 68, loss 2979.31201171875\n",
      "epoch 69, loss 2976.122802734375\n",
      "epoch 70, loss 2971.93408203125\n",
      "epoch 71, loss 2967.25927734375\n",
      "epoch 72, loss 2961.845458984375\n",
      "epoch 73, loss 2955.344970703125\n",
      "epoch 74, loss 2948.002685546875\n",
      "epoch 75, loss 2940.85302734375\n",
      "epoch 76, loss 2935.300048828125\n",
      "epoch 77, loss 2932.360595703125\n",
      "epoch 78, loss 2932.073974609375\n",
      "epoch 79, loss 2933.4619140625\n",
      "epoch 80, loss 2935.0751953125\n",
      "epoch 81, loss 2935.771240234375\n",
      "epoch 82, loss 2935.209228515625\n",
      "epoch 83, loss 2933.808349609375\n",
      "epoch 84, loss 2932.280029296875\n",
      "epoch 85, loss 2931.12939453125\n",
      "epoch 86, loss 2930.4345703125\n",
      "epoch 87, loss 2929.96875\n",
      "epoch 88, loss 2929.48193359375\n",
      "epoch 89, loss 2928.896484375\n",
      "epoch 90, loss 2928.30322265625\n",
      "epoch 91, loss 2927.819091796875\n",
      "epoch 92, loss 2927.444580078125\n",
      "epoch 93, loss 2927.04541015625\n",
      "epoch 94, loss 2926.463134765625\n",
      "epoch 95, loss 2925.651611328125\n",
      "epoch 96, loss 2924.73388671875\n",
      "epoch 97, loss 2923.9296875\n",
      "epoch 98, loss 2923.413818359375\n",
      "epoch 99, loss 2923.208740234375\n",
      "epoch 100, loss 2923.18505859375\n"
     ]
    }
   ],
   "source": [
    "criterion = torch.nn.MSELoss()\n",
    "optimizer = torch.optim.Adam(model.parameters(), lr=0.01)\n",
    "mse_history = []\n",
    "\n",
    "train(train_dataset, 100, criterion, optimizer, mse_history)\n"
   ]
  },
  {
   "cell_type": "code",
   "execution_count": 10,
   "metadata": {},
   "outputs": [
    {
     "data": {
      "text/plain": [
       "[<matplotlib.lines.Line2D at 0x155b12f50>]"
      ]
     },
     "execution_count": 10,
     "metadata": {},
     "output_type": "execute_result"
    },
    {
     "data": {
      "image/png": "[encoded data removed]",
      "text/plain": [
       "<Figure size 640x480 with 1 Axes>"
      ]
     },
     "metadata": {},
     "output_type": "display_data"
    }
   ],
   "source": [
    "plt.title(\"MSE Loss on train_set\")\n",
    "plt.xlabel(\"Epoch number\")\n",
    "plt.plot(mse_history)"
   ]
  },
  {
   "attachments": {},
   "cell_type": "markdown",
   "metadata": {},
   "source": [
    "## Testing"
   ]
  },
  {
   "cell_type": "code",
   "execution_count": 11,
   "metadata": {},
   "outputs": [
    {
     "name": "stdout",
     "output_type": "stream",
     "text": [
      "Mean Squared Error (MSE) using test_set: 2747.3909\n",
      "Root Mean Squared Error (RMSE) using test_set: 52.4156\n"
     ]
    },
    {
     "data": {
      "image/png": "[encoded data removed]",
      "text/plain": [
       "<Figure size 640x480 with 1 Axes>"
      ]
     },
     "metadata": {},
     "output_type": "display_data"
    }
   ],
   "source": [
    "with torch.no_grad():\n",
    "    X_test, y_test = test_dataset[:]\n",
    "    y_hat = model(X_test)\n",
    "    mse = criterion(y_hat, y_test)\n",
    "    rmse = np.sqrt(mse)\n",
    "\n",
    "    print(f\"Mean Squared Error (MSE) using test_set: {mse.item():.4f}\")\n",
    "    print(f\"Root Mean Squared Error (RMSE) using test_set: {rmse:.4f}\")\n",
    "\n",
    "    plt.scatter(y_test, y_hat, color='blue', label='Actual vs. Predicted')\n",
    "    plt.xlabel('Actual Values')\n",
    "    plt.ylabel('Predicted Values')\n",
    "    plt.title('Linear Regression: Actual vs. Predicted')\n",
    "    plt.show()\n",
    "    "
   ]
  },
  {
   "cell_type": "code",
   "execution_count": null,
   "metadata": {},
   "outputs": [],
   "source": []
  }
 ],
 "metadata": {
  "kernelspec": {
   "display_name": "python3-env",
   "language": "python",
   "name": "python3"
  },
  "language_info": {
   "codemirror_mode": {
    "name": "ipython",
    "version": 3
   },
   "file_extension": ".py",
   "mimetype": "text/x-python",
   "name": "python",
   "nbconvert_exporter": "python",
   "pygments_lexer": "ipython3",
   "version": "3.10.4"
  },
  "orig_nbformat": 4
 },
 "nbformat": 4,
 "nbformat_minor": 2
}
